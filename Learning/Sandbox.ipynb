{
 "cells": [
  {
   "cell_type": "code",
   "execution_count": 17,
   "metadata": {},
   "outputs": [
    {
     "name": "stdout",
     "output_type": "stream",
     "text": [
      "RGAPI-87d0fa86-bba3-4bec-9748-585276aa1ff9\n"
     ]
    }
   ],
   "source": [
    "from dotenv import load_dotenv\n",
    "load_dotenv()\n",
    "\n",
    "import os\n",
    "import requests\n",
    "\n",
    "api_key=os.environ.get('riot_api_key')\n",
    "print(api_key)\n",
    "\n",
    "def get_puuid(GameName=None,tagline=None,key=None):\n",
    "    link=f\"https://americas.api.riotgames.com/riot/account/v1/accounts/by-riot-id/{GameName}/{tagline}?api_key={key}\"\n",
    "\n",
    "    reponse=requests.get(link)\n",
    "    print(reponse)\n",
    "    #return reponse.json()['puuid']\n",
    "\n",
    "def get_name_and_tag(puuid=None,key=None):\n",
    "    link=f\"https://americas.api.riotgames.com/riot/account/v1/accounts/by-puuid/{puuid}?api_key={key}\"\n",
    "\n",
    "    reponse=requests.get(link)\n",
    "\n",
    "    #gameName=reponse.json()['gameName']\n",
    "    #tagLine=reponse.json()['tagLine']\n",
    "\n",
    "    #return f'{gameName}#{tagLine}'\n",
    "    return reponse"
   ]
  },
  {
   "cell_type": "code",
   "execution_count": 18,
   "metadata": {},
   "outputs": [
    {
     "name": "stdout",
     "output_type": "stream",
     "text": [
      "<Response [403]>\n"
     ]
    }
   ],
   "source": [
    "print(get_name_and_tag(puuid=\"NHpfzRWGrjV3un4jOIobDRNI3yOuVHbcdq50x4MEUy_UTheJmCqH_FyAEKZUHb0G4Xs17uhkELMCBA\",key=api_key))"
   ]
  }
 ],
 "metadata": {
  "kernelspec": {
   "display_name": "venv",
   "language": "python",
   "name": "python3"
  },
  "language_info": {
   "codemirror_mode": {
    "name": "ipython",
    "version": 3
   },
   "file_extension": ".py",
   "mimetype": "text/x-python",
   "name": "python",
   "nbconvert_exporter": "python",
   "pygments_lexer": "ipython3",
   "version": "3.12.2"
  }
 },
 "nbformat": 4,
 "nbformat_minor": 2
}
